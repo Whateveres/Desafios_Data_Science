{
  "cells": [
    {
      "cell_type": "markdown",
      "metadata": {
        "id": "view-in-github",
        "colab_type": "text"
      },
      "source": [
        "<a href=\"https://colab.research.google.com/github/Whateveres/Desafios_Data_Science/blob/main/Desaf%C3%ADo__Tipos_y_Estructuras_de_Datos_(Parte_II)_Alejandra_Tobar.ipynb\" target=\"_parent\"><img src=\"https://colab.research.google.com/assets/colab-badge.svg\" alt=\"Open In Colab\"/></a>"
      ]
    },
    {
      "cell_type": "markdown",
      "metadata": {
        "id": "aeuH58GG6kWj"
      },
      "source": [
        "<center><h1>Desafío - Tipos y\n",
        "estructuras de datos (Parte II)</h1></center><hr> 🚀\n",
        "Nombre: Alejandra Tobar <hr>\n",
        "\n",
        "\n"
      ]
    },
    {
      "cell_type": "markdown",
      "source": [
        "**Descripción**"
      ],
      "metadata": {
        "id": "54aPgQBXctVV"
      }
    },
    {
      "cell_type": "markdown",
      "source": [
        "El IMC es una medida que nos dice si una persona\n",
        "tiene un peso saludable para poder ser un astronauta.\n",
        "\n",
        "Se calcula:\n",
        "\n",
        "> $IMC=\\frac{m}{h*h}$\n",
        "\n",
        "Donde m corresponde al peso del astronauta en kilogramos, y h su estatura en metros.\n",
        "El rendimiento en las diferentes evaluaciones permitirá también aceptar o rechazar a los\n",
        "postulantes."
      ],
      "metadata": {
        "id": "Ngj3IXBicqQz"
      }
    },
    {
      "cell_type": "markdown",
      "metadata": {
        "id": "gVMG4zLO7G9W"
      },
      "source": [
        "**1.Crear DataFrame con el archivo\n",
        "resumen_resultados_astronautas.csv** 🐼"
      ]
    },
    {
      "cell_type": "code",
      "source": [
        "import pandas as pd #Importando biblioteca Pandas y asignándole alias 'pd'\n",
        "\n",
        "resultados = pd.read_csv(\"resumen_resultados_astronautas.csv\") #Leyendo archivo y generando DataFrame\n",
        "resultados #Mostrando contenido"
      ],
      "metadata": {
        "id": "waF-joCxdw37"
      },
      "execution_count": null,
      "outputs": []
    },
    {
      "cell_type": "markdown",
      "source": [
        "*DataFrame:* Estructura de datos tabular."
      ],
      "metadata": {
        "id": "1rn8VigkRCgq"
      }
    },
    {
      "cell_type": "markdown",
      "metadata": {
        "id": "QSWiCg90bUGb"
      },
      "source": [
        "**2.Crea la columna \"IMC\" usando la fórmula entregada.**\n"
      ]
    },
    {
      "cell_type": "code",
      "source": [
        "#Agregando columnas altura_cuadra e IMC\n",
        "resultados['altura'] = resultados['altura']/100 #Convirtiendo altura en mts\n",
        "resultados['altura_cuadrado'] = resultados['altura']*resultados['altura'] #Calculando y agregando columna h*h\n",
        "resultados['IMC'] = resultados['peso']/resultados['altura_cuadrado'] #Calculando y agregando columna de IMC\n",
        "resultados #Mostrando resultados"
      ],
      "metadata": {
        "id": "DQP8AAlo0E4U"
      },
      "execution_count": null,
      "outputs": []
    },
    {
      "cell_type": "markdown",
      "metadata": {
        "id": "uUmFRWJcbiEF"
      },
      "source": [
        "**3a.Crea la columna \"promedio_evaluaciones\" con el promedio de las 4 columnas\n",
        "de evaluaciones.**\n",
        "\n",
        "**Filtra el DataFrame para obtener solo aquellas filas donde el IMC está entre 18.5 y 24.9.**\n",
        "\n"
      ]
    },
    {
      "cell_type": "code",
      "source": [
        "#Creando columna 'promedio_evaluaciones'\n",
        "#Creando lista evaluaciones que incluye como elementos evaluaciones requeridas\n",
        "evaluaciones = ['evaluacion_fisica','evaluacion_psicologica','evaluacion_adaptativa','evaluacion_medica']\n",
        "promedio_evaluaciones = resultados[evaluaciones].mean() #Calculando el promedio y almacenando valores en nueva variable\n",
        "\n",
        "#Filtrando DataFrame usando Indexación Booleana.\n",
        "filtro_imc = resultados[(resultados['IMC'] <= 24.9) & (resultados['IMC'] >= 18.5)]\n",
        "filtro_imc #Mostrando candidatos con IMC adecuado para ser astronauta."
      ],
      "metadata": {
        "id": "O4t-RDulI0H9"
      },
      "execution_count": null,
      "outputs": []
    },
    {
      "cell_type": "markdown",
      "source": [
        "Se usó *función mean()* para calcular los promedios totales obtenidos por cada postulante y se almacenaron valores en nueva columna.\n",
        "\n",
        "Usando el método de *Indexación Booleana*, en vez del *Método Query*, se\n",
        "seleccionaron los datos requeridos usando las condiciones dadas."
      ],
      "metadata": {
        "id": "zR93wqWpGIyn"
      }
    },
    {
      "cell_type": "markdown",
      "source": [
        "**4.El promedio de las 4 evaluaciones debe ser mayor o igual a 87. Filtra el\n",
        "DataFrame resultante y agrega esta condición al filtro aplicado en el paso\n",
        "anterior.**\n"
      ],
      "metadata": {
        "id": "MjVjepR6cDlb"
      }
    },
    {
      "cell_type": "code",
      "source": [
        "#Último filtro aplicado en paso anterior más nueva condición. #Indexación Booleana.\n",
        "filtro_final = resultados[(resultados['IMC'] <= 24.9) & (resultados['IMC'] >= 18.5) & (resultados['promedio_evaluaciones'] >= 87)].round(2)\n",
        "filtro_final #Mostrando resultados filtros aplicados"
      ],
      "metadata": {
        "id": "SKDJ5_5aSK3v"
      },
      "execution_count": null,
      "outputs": []
    },
    {
      "cell_type": "markdown",
      "source": [
        "Datos de nuevo DataFrame 'filtro_final' se redondean con máximo 2 decimales utilizando la *función 'round(2)'*."
      ],
      "metadata": {
        "id": "QfpTtkY8wFEU"
      }
    },
    {
      "cell_type": "markdown",
      "source": [
        "**5.Reinicia el índice del DataFrame resultante.**\n"
      ],
      "metadata": {
        "id": "Uj1tLVVVcKSn"
      }
    },
    {
      "cell_type": "code",
      "source": [
        "filtro_final = filtro_final.reset_index(drop=True)\n",
        "filtro_final"
      ],
      "metadata": {
        "id": "O_sc0xtVajCc"
      },
      "execution_count": null,
      "outputs": []
    },
    {
      "cell_type": "markdown",
      "source": [
        "Se usó función de Pandas *reset_index()* para restablecer y ordenar los índices de los resultados obtenidos una vez aplicado el último filtro."
      ],
      "metadata": {
        "id": "PbJWts8hbA09"
      }
    },
    {
      "cell_type": "markdown",
      "source": [
        "**6.Modifica el valor de la columna \"califica\", para que diga \"Si\" en todas las filas del DataFrame resultante.**\n"
      ],
      "metadata": {
        "id": "ZRl24bdGcQBD"
      }
    },
    {
      "cell_type": "code",
      "source": [
        "filtro_final['califica'] = 'Si' #Asignando valor 'Si' todos los elementos de la columna 'califica'\n",
        "filtro_final #Se imprimen valores de DataFrame resultante."
      ],
      "metadata": {
        "id": "xs1RNsV6cL0x"
      },
      "execution_count": null,
      "outputs": []
    },
    {
      "cell_type": "markdown",
      "source": [
        "Todos los valores de columna 'califica' se sobreescriben y establecen en 'Si' en el nuevo DataFrame llamado 'filtro_final'."
      ],
      "metadata": {
        "id": "H57mLOICd4jT"
      }
    },
    {
      "cell_type": "markdown",
      "source": [
        "**7.Exporta el DataFrame resultante a un archivo .csv separado por comas con el\n",
        "nombre \"astronautas_calificados.csv\".**\n"
      ],
      "metadata": {
        "id": "ru_uZICRcQp-"
      }
    },
    {
      "cell_type": "code",
      "source": [
        "filtro_final.to_csv(\"astronautas_calificados.csv\", sep = ',')"
      ],
      "metadata": {
        "id": "_1p1ZpdberkZ"
      },
      "execution_count": 75,
      "outputs": []
    },
    {
      "cell_type": "markdown",
      "source": [
        "Para exportar el nuevo DataFrame se usó método *to_csv*. Sus parámetros son:\n",
        "\n",
        "\n",
        "* *nombre.cvs:* 'astronautas_calificados.csv' que ha quedado en la misma carpeta que archivo de Jupyter con el que se ha trabajado.\n",
        "\n",
        "* *index:* Se agregó columna adicional de índice. Por defecto es True y no se ha especificado que no se desea.\n",
        "\n",
        "* *sep:* El separador de datos corresponde a comas.\n",
        "\n",
        "* *header:* Se agregó cabecera puesto que no se ha espeficiado que no se desea.\n",
        "\n",
        "* *columns:* Se exportaron todas las columnas.\n",
        "\n",
        "Finalmente, el archivo contiene el listado de postulantes que han cumplido con los requerimientos para ser calificados.\n"
      ],
      "metadata": {
        "id": "RkLxIQNee1-K"
      }
    },
    {
      "cell_type": "markdown",
      "source": [
        "---\n",
        "🚀\n",
        "Nombre: Alejandra Tobar <hr>\n"
      ],
      "metadata": {
        "id": "CGJCvtCxt2ml"
      }
    }
  ],
  "metadata": {
    "colab": {
      "provenance": [],
      "mount_file_id": "11Zq9Df87ZdTERr01W_5I_yG5E9aSL2Xi",
      "authorship_tag": "ABX9TyORJK36a/sanPS1k7LVqYvo",
      "include_colab_link": true
    },
    "kernelspec": {
      "display_name": "Python 3",
      "name": "python3"
    },
    "language_info": {
      "name": "python"
    }
  },
  "nbformat": 4,
  "nbformat_minor": 0
}