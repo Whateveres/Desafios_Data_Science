{
  "nbformat": 4,
  "nbformat_minor": 0,
  "metadata": {
    "colab": {
      "provenance": [],
      "authorship_tag": "ABX9TyPWbOnS7hMolVRVUG2gpZ16",
      "include_colab_link": true
    },
    "kernelspec": {
      "name": "python3",
      "display_name": "Python 3"
    },
    "language_info": {
      "name": "python"
    }
  },
  "cells": [
    {
      "cell_type": "markdown",
      "metadata": {
        "id": "view-in-github",
        "colab_type": "text"
      },
      "source": [
        "<a href=\"https://colab.research.google.com/github/Whateveres/Desafios_Data_Science/blob/main/Desaf%C3%ADo__Conociendo_Python_ParteII_Alejandra_Tobar.ipynb\" target=\"_parent\"><img src=\"https://colab.research.google.com/assets/colab-badge.svg\" alt=\"Open In Colab\"/></a>"
      ]
    },
    {
      "cell_type": "markdown",
      "source": [
        "# **DESAFÍO - CONOCIENDO PYTHON (PARTE II)**\n",
        "Nombre: Alejandra Tobar"
      ],
      "metadata": {
        "id": "aeuH58GG6kWj"
      }
    },
    {
      "cell_type": "markdown",
      "source": [
        "## **1. Suma de números pares**\n",
        "\n",
        "Escribe un programa que pida al usuario dos números enteros y calcule la suma de todos los números pares entre ellos. El programa deberá imprimir el resultado. *(hint: utilice la función range() para generar la secuencia de números enteros)*"
      ],
      "metadata": {
        "id": "gVMG4zLO7G9W"
      }
    },
    {
      "cell_type": "code",
      "source": [
        "# RESPUESTA\n",
        "\n",
        "#1. Solicitud de información para definir el rango\n",
        "n1 = int(input('Ingresar el número más pequeño: '))\n",
        "n2 = int(input('Ingresar el número más grande: '))\n",
        "\n",
        "#2. Definiendo variables\n",
        "suma_pares = 0\n",
        "\n",
        "#3. Usamos la función range() para iterar sobre todos los números en el rango\n",
        "for num in range(n1, n2+1):\n",
        "    if num % 2 == 0:  # Si el número es par\n",
        "        suma_pares += num  # resultado se acumula a suma_pares\n",
        "\n",
        "#4. Imprimiento resultados\n",
        "print(f\"La suma de los números pares entre {n1} y {n2} es: {suma_pares}\")\n"
      ],
      "metadata": {
        "id": "5qz9M3fOdhNY"
      },
      "execution_count": null,
      "outputs": []
    },
    {
      "cell_type": "markdown",
      "source": [
        "*   Se convierten las entradas del usuario (string) a números enteros.\n",
        "*   Se define la variable suma_pares comenzando en cero.\n",
        "*   Junto al Ciclo For se ocupa Función Range() para calcular la suma de\n",
        "    todos los números pares entre el rango dado por el usuario al inicio.\n",
        "*   Proceso de iteración se repite considerando hasta n2 e imprimen los\n",
        "     resultados.\n"
      ],
      "metadata": {
        "id": "4FN0wNaM4FyU"
      }
    },
    {
      "cell_type": "markdown",
      "source": [
        "## **2. Calculadora de áreas**\n",
        "\n",
        "Escribe un programa que pida al usuario el tipo de figura geométrica de la que quiere calcular el área (cuadrado, triángulo o círculo) y las medidas correspondientes. El programa deberá calcular y mostrar el área de la figura seleccionada. *(hint: para obtener el número pi puedes utilizar la librería math)*"
      ],
      "metadata": {
        "id": "F0Ozpfvx8D8B"
      }
    },
    {
      "cell_type": "code",
      "source": [
        "# RESPUESTA\n",
        "\n",
        "#1. Importando libredía Math\n",
        "import math\n",
        "\n",
        "#2. Solicitud de información\n",
        "figura = int(input('Ingresar el tipo de figura geométrica sin tilde del área a calcular (cuadrado, triangulo, circulo): ')).lower()\n",
        "\n",
        "#3. Verificación de figura seleccionada, solicitud de información adicional y cálculo del área\n",
        "if figura == 'cuadrado':\n",
        "    lado = int(input('Ingresar el lado del cuadrado en cm: '))\n",
        "    area = lado**2\n",
        "    print(f'El área del cuadrado es: {area}')\n",
        "\n",
        "elif figura == 'triangulo':\n",
        "    base = int(input('Ingresar la base del triángulo en cm: '))\n",
        "    altura = int(input('Ingresar la altura del triángulo en cm: '))\n",
        "    area = (base * altura) / 2\n",
        "    print(f'El área del triángulo es: {area}')\n",
        "\n",
        "elif figura == 'circulo':\n",
        "    radio = int(input('Ingresar el radio del círculo en cm: '))\n",
        "    area = math.pi * radio**2\n",
        "    print(f'El área del círculo es: {area}')\n",
        "\n",
        "else:\n",
        "    print('Ingresar: cuadrado, triangulo o circulo.')\n"
      ],
      "metadata": {
        "id": "ItsuGhpzKVQS"
      },
      "execution_count": null,
      "outputs": []
    },
    {
      "cell_type": "markdown",
      "source": [
        "*   Se importa librería Math para usar math.pi que define cálculo del área de figura geométrica círculo.\n",
        "*   Se solicita al usuario elegir figura geométrica para el cálculo de su área.\n",
        "*   Se usa Estructura de Control If, Elif, Else que define el cálculo de cada figura. Se solicita información adicional al usuario correspondiente a figura a calcular.\n",
        "\n",
        "\n"
      ],
      "metadata": {
        "id": "mXV70JWF28zG"
      }
    },
    {
      "cell_type": "markdown",
      "source": [
        "## **3. Adivina el número**\n",
        "\n",
        " Escribe un programa que genere un número aleatorio entre 1 y 100 y pida al usuario que adivine cuál es. El programa deberá dar pistas al usuario diciendo si el número que ha introducido es mayor o menor que el número aleatorio. El programa deberá continuar pidiendo números hasta que el usuario adivine el número correcto. *(hint: utiliza un ciclo while para mantener al programa pidiendo números)*\n"
      ],
      "metadata": {
        "id": "t_oBeQuf8is7"
      }
    },
    {
      "cell_type": "code",
      "source": [
        "# RESPUESTA\n",
        "\n",
        "# 1.Importando Libería Random\n",
        "import random\n",
        "\n",
        "# 2.Definiendo variable que genera un número aleatorio entero entre 1 y 100\n",
        "num_aleatorio = random.randint(1, 100)\n",
        "\n",
        "# 3.Mensaje para el usuario\n",
        "print('Adivina un número entre 1 y 100')\n",
        "\n",
        "# 4.Ciclo While continúa pidiendo números hasta que el usuario adivine el correcto\n",
        "while True:\n",
        "    # Solicitud de información\n",
        "    num = int(input('Ingresar el número: '))\n",
        "\n",
        "    # Verificando si la adivinación es la correcta\n",
        "    if num == num_aleatorio:\n",
        "        print('Adivinaste')\n",
        "        break\n",
        "    elif num < num_aleatorio:\n",
        "        print('El número es mayor')\n",
        "    else:\n",
        "        print('El número es menor')\n"
      ],
      "metadata": {
        "id": "3FlDkHVRUSSC"
      },
      "execution_count": null,
      "outputs": []
    },
    {
      "cell_type": "markdown",
      "source": [
        "*   Se importa librería Random para generar números aleatorios.\n",
        "*   Se crea variable num_aleatorio que genera número entre 1 y 100.\n",
        "*   Se le pide que adivine el número.\n",
        "*   Si adivina se imprime un mensaje diciendole que ha adivinado. Se ocupa break para terminar el ciclo While.\n",
        "*   Si no adivina se le dan pistas.\n",
        "\n",
        "\n"
      ],
      "metadata": {
        "id": "B9CswCp93pTL"
      }
    },
    {
      "cell_type": "markdown",
      "source": [
        "## **4. ¡Maratón de caracoles!**\n",
        "\n",
        " Crea un programa que simule un caracol que va corriendo una maratón. Pide al usuario que ingrese la velocidad a la que puede correr el caracol. Debes usar un ciclo while, para ir mostrando un emoji de caracol que se vaya moviendo hacia la derecha en cada impresión.\n",
        "\n"
      ],
      "metadata": {
        "id": "qO_fM0RA81uz"
      }
    },
    {
      "cell_type": "code",
      "execution_count": null,
      "metadata": {
        "id": "rw66KLHKBPNd"
      },
      "outputs": [],
      "source": [
        "# RESPUESTA\n",
        "\n",
        "# 1.Solicitud de información\n",
        "velocidad = int(input('Ingrese la velocidad del caracol en km/h: '))\n",
        "\n",
        "# 2.Definiendo posición inicial del caracol\n",
        "posicion = 0\n",
        "\n",
        "# 3. Definiendo variable distancia\n",
        "distancia_carrera = 42  # Suponiendo que la maraton tiene una distancia de 42km.\n",
        "\n",
        "# 4.Ejecutando Ciclo While mientras la posición del caracol sea menor que la distancia de la carrera\n",
        "while posicion < distancia_carrera:\n",
        "    posicion = posicion + velocidad  # Se define y actualiza posicion\n",
        "    pista = '_' * posicion + '🐌'  # Definiendo variable pista\n",
        "    print(pista)  # Moviendo el caracol a la derecha\n",
        "    if posicion >= distancia_carrera:  # Si el caracol ha llegado o pasado la distancia de la carrera, la ha terminado\n",
        "        break\n",
        "\n"
      ]
    },
    {
      "cell_type": "markdown",
      "source": [
        "*   Se convierten las entradas del usuario (string) a números enteros.\n",
        "*   Se define la variable posición, que es dónde se encuentra el caracol al inicio, comenzando en cero.\n",
        "*   Variable posición va actualizando los valores de la posición a medida que ocurre la iteración.\n",
        "*   Variable pista representa cómo se mueve a la derecha el caracol.\n",
        "*   Se imprime resultado mientras la posición del caracol en la pista sea menor que la distancia de la carrera (42km).\n",
        "*   Para terminar el Ciclo While se ha agregado break para que no se siga ejecutando cuando haya llegado o pasado la distancia de la carrera.\n",
        "\n",
        "\n",
        "\n",
        "\n",
        "\n"
      ],
      "metadata": {
        "id": "DW6Uvur41_XZ"
      }
    }
  ]
}