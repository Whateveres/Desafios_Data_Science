{
  "nbformat": 4,
  "nbformat_minor": 0,
  "metadata": {
    "colab": {
      "provenance": [],
      "authorship_tag": "ABX9TyOGw/8wON9sBlbBpPuCBZ79",
      "include_colab_link": true
    },
    "kernelspec": {
      "name": "python3",
      "display_name": "Python 3"
    },
    "language_info": {
      "name": "python"
    }
  },
  "cells": [
    {
      "cell_type": "markdown",
      "metadata": {
        "id": "view-in-github",
        "colab_type": "text"
      },
      "source": [
        "<a href=\"https://colab.research.google.com/github/Whateveres/Desafios_Data_Science/blob/main/Desaf%C3%ADo_Conociendo_Python_ParteI_Alejandra_Tobar.ipynb\" target=\"_parent\"><img src=\"https://colab.research.google.com/assets/colab-badge.svg\" alt=\"Open In Colab\"/></a>"
      ]
    },
    {
      "cell_type": "markdown",
      "source": [
        "# **DESAFÍO - CONOCIENDO PYTHON (PARTE I)**\n",
        "Nombre: Alejandra Tobar"
      ],
      "metadata": {
        "id": "aeuH58GG6kWj"
      }
    },
    {
      "cell_type": "markdown",
      "source": [
        "## **1. Calculando el salario semanal**\n",
        "\n",
        "Un vendedor gana un salario base de $500 más una comisión del 10% sobre sus ventas totales. Escribe un programa donde se pueda ingresar el monto de las ventas totales del vendedor y calcule su salario total."
      ],
      "metadata": {
        "id": "gVMG4zLO7G9W"
      }
    },
    {
      "cell_type": "code",
      "execution_count": null,
      "metadata": {
        "id": "rw66KLHKBPNd"
      },
      "outputs": [],
      "source": [
        "# RESPUESTA\n",
        "\n",
        "# 1. Solicitud de información\n",
        "ventas_totales = input(\"Ingrese Ventas Totales del Vendedor: \")\n",
        "\n",
        "# 2. Definición de variable\n",
        "ventas = int(ventas_totales)\n",
        "\n",
        "# 3. Cálculo del salario como el 10% de las ventas más salario base de 500\n",
        "salario = int(ventas * 0.1 + 500)\n",
        "\n",
        "# 4. Imprimiendo el salario total del vendedor\n",
        "print(f'El salario total del vendedor es de: ${salario}')\n",
        "\n"
      ]
    },
    {
      "cell_type": "markdown",
      "source": [
        "*Se asume que el salario del vendedor es un número entero. Se convierte la entrada del usuario (string) a un número entero. Se realiza operación matemática calculando el 10% de las ventas y sumándole el salario base.*"
      ],
      "metadata": {
        "id": "DW6Uvur41_XZ"
      }
    },
    {
      "cell_type": "markdown",
      "source": [
        "## **2. Bienvenido a la frutería virtual**\n",
        "\n",
        "En este ejercicio, vamos a crear un diccionario vacío llamado catalogo_frutas {'fruta': precio} y agregar algunas frutas con sus precios. Luego, le pediremos al usuario que ingrese el nombre de una fruta y verificaremos si esa fruta está en el diccionario. Si la fruta está en el diccionario, mostraremos el precio al usuario. Si la fruta no está en el diccionario, le diremos al usuario que no se encuentra esa fruta en nuestra tienda."
      ],
      "metadata": {
        "id": "F0Ozpfvx8D8B"
      }
    },
    {
      "cell_type": "code",
      "source": [
        "# RESPUESTA\n",
        "\n",
        "# 1.Definir el catálogo de frutas con sus precios\n",
        "catalogo_frutas = {'kiwi': 8990,'frutilla': 4990,'frambuesa': 1990,'platano': 8990, 'manzana': 3490,'pera': 4390,'sandía': 2490,'mango': 5690,'uva': 6990,'naranja': 2990\n",
        "}\n",
        "\n",
        "# 2.Pedir al usuario el nombre de la fruta\n",
        "consulta = input('Ingrese el nombre de la fruta: ')\n",
        "\n",
        "c\n",
        "\n",
        "# 4.Verificar si la fruta está en el catálogo usando condición if e imprimir resultados\n",
        "if consulta in catalogo_frutas:\n",
        "    precio = catalogo_frutas[consulta]\n",
        "    print(f'El precio de {consulta.capitalize()} es de ${precio}')\n",
        "else:\n",
        "    print(f'{consulta.capitalize()} no está en nuestro catálogo.')\n"
      ],
      "metadata": {
        "id": "ItsuGhpzKVQS"
      },
      "execution_count": null,
      "outputs": []
    },
    {
      "cell_type": "markdown",
      "source": [
        "*Se define el diccionario, que corresponde al catálogo de frutas en este caso. Se le pide al usuario que ingrese el nombre de la fruta. Se convierte la entrada del usuario a minúsculas para que sea insensible a mayúsculas y se pueda encontrar o no la fruta. Finalmente se verifica y entrega resultado si la fruta se encuentra en la tienda mediante función condicional Si.*"
      ],
      "metadata": {
        "id": "mXV70JWF28zG"
      }
    },
    {
      "cell_type": "markdown",
      "source": [
        "## **3. Bienvenido al casino**\n",
        "\n",
        "En este juego, tienes que lanzar dos dados y el programa mostrará los valores obtenidos en cada dado y la suma de ambos valores. Debes generar dos números aleatorios entre 1 y 6 que representan los valores obtenidos en cada dado usando la librería random. Luego, el programa debe mostrar los valores obtenidos en cada dado y la suma de ambos valores en la pantalla.\n"
      ],
      "metadata": {
        "id": "t_oBeQuf8is7"
      }
    },
    {
      "cell_type": "code",
      "source": [
        "# RESPUESTA\n",
        "\n",
        "# 1. Importando librería Random\n",
        "import random\n",
        "\n",
        "# 2. Definición de variables\n",
        "dado1 = random.randint(1, 6)\n",
        "dado2 = random.randint(1, 6)\n",
        "suma_dados = dado1 + dado2\n",
        "\n",
        "# 3. Imprimiendo resultados\n",
        "print(f'El valor obtenido en el primer dado es {dado1} mientras que el del segundo es {dado2}. La suma de ambos es de: {suma_dados}')\n"
      ],
      "metadata": {
        "id": "3FlDkHVRUSSC"
      },
      "execution_count": null,
      "outputs": []
    },
    {
      "cell_type": "markdown",
      "source": [
        "*Se importa libería Random para generar números aleatorios. Se define una variable para cada dado y una para la suma de ambos. Finalmente se realiza el cálculo matemático requerido.*"
      ],
      "metadata": {
        "id": "B9CswCp93pTL"
      }
    },
    {
      "cell_type": "markdown",
      "source": [
        "## **4. Calculadora de chocolate**\n",
        "\n",
        "Crea un programa que calcule la cantidad de chocolate que puedes comer sin pasarte de tu límite diario de calorías. El programa debe preguntar al usuario su límite diario de calorías y la cantidad de calorías que tiene una porción de chocolate. Luego, debe calcular la cantidad máxima de chocolate que se puede comer sin exceder el límite diario de calorías y mostrarla en pantalla.\n",
        "\n",
        "\n"
      ],
      "metadata": {
        "id": "qO_fM0RA81uz"
      }
    },
    {
      "cell_type": "code",
      "source": [
        "# RESPUESTA\n",
        "\n",
        "# 1. Definición de variables\n",
        "Limite_calorico = int(input('Ingrese su limite diario de calorias: '))\n",
        "Calorias_chocolate = int(input('Ingrese la cantidad de calorias que tiene la porcion de chocolate: '))\n",
        "\n",
        "# 2. Definición y cálculo de nueva variable\n",
        "Cant_Chocolate = Limite_calorico // Calorias_chocolate\n",
        "\n",
        "# 3. Imprimiendo resultados\n",
        "print(f'La cantidad máxima de chocolate que puede comer sin exceder su límite diario de calorías es de {Cant_Chocolate} porciones')"
      ],
      "metadata": {
        "id": "5qz9M3fOdhNY"
      },
      "execution_count": null,
      "outputs": []
    },
    {
      "cell_type": "markdown",
      "source": [
        "*Se convierten las entradas del usuario (string) a números enteros. Se realiza la creación y cálculo de la nueva variable para obtener la cantidad máxima de chocolate que puede comer sin exceder límite calorico diario. Se imprimen resultados.*"
      ],
      "metadata": {
        "id": "4FN0wNaM4FyU"
      }
    },
    {
      "cell_type": "code",
      "source": [
        "age = 36\n",
        "txt = \"My name is John, and I am {}\"\n",
        "print(txt.format(age))"
      ],
      "metadata": {
        "id": "NY-1S9lgwSFe"
      },
      "execution_count": null,
      "outputs": []
    }
  ]
}