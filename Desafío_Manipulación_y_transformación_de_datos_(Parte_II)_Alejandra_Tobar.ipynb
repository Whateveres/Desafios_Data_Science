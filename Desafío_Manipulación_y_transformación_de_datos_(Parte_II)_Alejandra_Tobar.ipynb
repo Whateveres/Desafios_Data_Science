{
  "cells": [
    {
      "cell_type": "markdown",
      "metadata": {
        "id": "view-in-github",
        "colab_type": "text"
      },
      "source": [
        "<a href=\"https://colab.research.google.com/github/Whateveres/Desafios_Data_Science/blob/main/Desaf%C3%ADo_Manipulaci%C3%B3n_y_transformaci%C3%B3n_de_datos_(Parte_II)_Alejandra_Tobar.ipynb\" target=\"_parent\"><img src=\"https://colab.research.google.com/assets/colab-badge.svg\" alt=\"Open In Colab\"/></a>"
      ]
    },
    {
      "cell_type": "markdown",
      "metadata": {
        "id": "aeuH58GG6kWj"
      },
      "source": [
        "<center><h1>Desafío - Manipulación y transformación de datos (Parte II)</h1></center><hr> 🚀\n",
        "Nombre: Alejandra Tobar <hr>\n",
        "\n",
        "\n"
      ]
    },
    {
      "cell_type": "markdown",
      "source": [
        "**Descripción**"
      ],
      "metadata": {
        "id": "54aPgQBXctVV"
      }
    },
    {
      "cell_type": "markdown",
      "source": [
        "**Para desarrollar el desafío se usaron los siguientes archivos: US_Regional_Sales_Data.xlsx, reporte.xlsx**"
      ],
      "metadata": {
        "id": "Ngj3IXBicqQz"
      }
    },
    {
      "cell_type": "markdown",
      "metadata": {
        "id": "gVMG4zLO7G9W"
      },
      "source": [
        "**1. Carga los datos de cada pestaña del archivo US_Regional_Sales_Data.xlsx en un DataFrame independiente. (hint: Puedes obtener los nombres de las hojas usando pd.ExcelFile(archivo).sheet_names)**"
      ]
    },
    {
      "cell_type": "code",
      "source": [
        "import pandas as pd\n",
        "\n",
        "# Nombre del archivo Excel\n",
        "archivo_excel = 'US_Regional_Sales_Data.xlsx'\n",
        "\n",
        "# Nombres de las hojas en el archivo Excel\n",
        "nombres_hojas = ['Sales Orders Sheet', 'Customers Sheet', 'Store Locations Sheet', 'Products Sheet', 'Sales Team Sheet']\n",
        "\n",
        "# Creando un diccionario para almacenar los DataFrames\n",
        "dataframes = {}\n",
        "\n",
        "# Iterando sobre las hojas y leeyendo cada una en un DataFrame\n",
        "for nombre_hoja in nombres_hojas:\n",
        "    # Utilizar el nombre de la hoja como clave en el diccionario\n",
        "    dataframes[nombre_hoja] = pd.read_excel(archivo_excel, sheet_name=nombre_hoja)\n",
        "\n",
        "# Ahora, dataframes contiene los DataFrames correspondientes a cada hoja\n",
        "# Puedo acceder a ellos utilizando los nombres de las hojas como claves\n",
        "sales_orders_df = dataframes['Sales Orders Sheet']\n",
        "customers_df = dataframes['Customers Sheet']\n",
        "store_locations_df = dataframes['Store Locations Sheet']\n",
        "products_df = dataframes['Products Sheet']\n",
        "sales_team_df = dataframes['Sales Team Sheet']\n",
        "\n",
        "sales_team_df"
      ],
      "metadata": {
        "id": "Y24erjW8dQjx"
      },
      "execution_count": null,
      "outputs": []
    },
    {
      "cell_type": "markdown",
      "metadata": {
        "id": "QSWiCg90bUGb"
      },
      "source": [
        "**2. Cruza todos los DataFrames usando validación many_to_one, y guarda el resultado\n",
        "en una nueva variable llamada df_base.**\n"
      ]
    },
    {
      "cell_type": "code",
      "source": [
        "# Uniendo tablas sales_orders y customers_df con método merge\n",
        "df_base = sales_orders_df.merge(customers_df, on = '_CustomerID', validate = 'many_to_one', how ='inner')\n",
        "\n",
        "# Uniendo tabla resultado y store_locations_df con método merge\n",
        "df_base = df_base.merge(store_locations_df, on = '_StoreID', validate = 'many_to_one', how ='inner')\n",
        "\n",
        "# Uniendo tabla resultado  y roducts_df con método merge\n",
        "df_base = df_base.merge(products_df, on = '_ProductID', validate = 'many_to_one', how ='inner')\n",
        "\n",
        "# Uniendo tabla resultado  y customers_df con método merge\n",
        "df_base = df_base.merge(sales_team_df, on = '_SalesTeamID', validate = 'many_to_one', how ='inner')\n",
        "\n",
        "#Exportando df_base a excel para revisión interna\n",
        "df_base.to_excel('df_base.xlsx', index=False)"
      ],
      "metadata": {
        "id": "-GJnbQfrFapm"
      },
      "execution_count": 67,
      "outputs": []
    },
    {
      "cell_type": "markdown",
      "source": [
        "El método 'merge()' en Pandas se ha utilizado en este caso para combinar los DataFrames con la información de las hojas de datos. Se usó validate = 'many_to_one'"
      ],
      "metadata": {
        "id": "1rn8VigkRCgq"
      }
    },
    {
      "cell_type": "markdown",
      "metadata": {
        "id": "uUmFRWJcbiEF"
      },
      "source": [
        "**3. Agrega las siguientes columnas a df_ base:**\n",
        "\n"
      ]
    },
    {
      "cell_type": "code",
      "source": [
        "# Asegurandonos primero que las columnas de fecha son tipo datetime\n",
        "df_base['OrderDate'] = pd.to_datetime(df_base['OrderDate'])\n",
        "df_base['ProcuredDate'] = pd.to_datetime(df_base['ProcuredDate'])\n",
        "df_base['ShipDate'] = pd.to_datetime(df_base['ShipDate'])\n",
        "df_base['DeliveryDate'] = pd.to_datetime(df_base['DeliveryDate'])\n",
        "\n",
        "# Agregando nuevas columnas y realizando cálculos\n",
        "df_base['ProcurementDays'] = (df_base['OrderDate'] - df_base['ProcuredDate']).dt.days\n",
        "df_base['ShippingDays'] = (df_base['ShipDate'] - df_base['OrderDate']).dt.days\n",
        "df_base['DeliveryDays'] = (df_base['DeliveryDate'] - df_base['ShipDate']).dt.days\n",
        "df_base['CustomerDays'] = df_base['ShippingDays'] + df_base['DeliveryDays']\n",
        "\n",
        "# Revisando actualizaciones de df_base\n",
        "df_base.head()"
      ],
      "metadata": {
        "id": "2j_grNW0gvPr"
      },
      "execution_count": null,
      "outputs": []
    },
    {
      "cell_type": "markdown",
      "source": [
        "**4. Agrega una nueva columna discreta al df_base, con el nombre CustomerDaysInterval que clasifique los valores de la columna CustomerDays en los siguientes intervalos:**\n",
        "\n",
        "*   0 to 15 days\n",
        "*   15 to 30 days\n",
        "*   30 to 45 days\n",
        "*   45 to 60 days\n",
        "*   60 to 75 days\n",
        "*   75 to 90 days\n",
        "\n",
        "Hint: Utiliza pd.cut con estas etiquetas de Intervalo. Puedes convertir previamente la columna CustomerDays a valores numéricos con pd.to_numeric(). Considera que en este caso, el resultado es entregado en formato 10**9 segundos, por lo que debes dividir el resultado por este valor."
      ],
      "metadata": {
        "id": "iNOtzDQJnIjn"
      }
    },
    {
      "cell_type": "code",
      "source": [
        "# Convirtiendo columna CustomerDays a valores numéricos y dividiendo por 10**9\n",
        "df_base['CustomerDays'] = pd.to_numeric(df_base['CustomerDays']) / 10**9\n",
        "\n",
        "# Definiendo etiquetas de intervalos\n",
        "intervalos = [0, 15, 30, 45, 60, 75, 90] # Definiendo los intervalos deseados\n",
        "etiquetas = ['0 to 15 days', '15 to 30 days', '30 to 45 days', '45 to 60 days', '60 to 75 days', '75 to 90 days'] #Etiquetas para los intervalos\n",
        "\n",
        "# Agregando nueva columna CustomerDaysInterval utilizando pd.cut\n",
        "df_base['CustomerDaysInterval'] = pd.cut(df_base['CustomerDays'], bins=intervalos, labels=etiquetas, right=False) #Valores cerrados al extremo derecho\n",
        "\n",
        "# Mostrando resultados\n",
        "print(df_base[['CustomerDays', 'CustomerDaysInterval']].head())\n"
      ],
      "metadata": {
        "id": "PGV4tZL7nHa2"
      },
      "execution_count": null,
      "outputs": []
    },
    {
      "cell_type": "markdown",
      "source": [
        "**5. Utiliza una tabla pivote para mostrar el conteo de órdenes agrupando por Sales\n",
        "Team en las filas y CustomerDaysInterval en las columnas. Este reporte debe\n",
        "cuadrar con los datos de la pestaña Reporte1 del archivo reportes.xlsx**"
      ],
      "metadata": {
        "id": "spk1uLm9ruKX"
      }
    },
    {
      "cell_type": "code",
      "source": [
        "#Pivot Table\n",
        "df_pivot = pd.pivot_table(\n",
        "                                   data = df_base # DataFrame.\n",
        "                                 , index = \"Sales Team\" # Columna del DataFrame original que queremos como fila/indice de la tabla resultante.\n",
        "                                 , columns = \"CustomerDaysInterval\" #  Columna del DataFrame original que queremos como columna de la tabla resultante.\n",
        "                                 , values = \"OrderNumber\" # valores a lo que le aplicaremos la aggfunc.\n",
        "                                 , aggfunc= \"count\" # función a aplicar a la columna de valores (conteo en este caso).\n",
        "                                 , fill_value = 0 # Valor para llenar los espacios vacíos en la tabla resultante.\n",
        ")\n",
        "\n",
        "#Imprimiendo Pivot Table\n",
        "df_pivot.head()"
      ],
      "metadata": {
        "id": "n20n4vmusJrt"
      },
      "execution_count": null,
      "outputs": []
    },
    {
      "cell_type": "markdown",
      "source": [
        "**6. Agrega la siguiente columna calculada a la base:**"
      ],
      "metadata": {
        "id": "Waba6bSWyy4Q"
      }
    },
    {
      "cell_type": "code",
      "source": [
        "# Agregando columna calculada GrossMargin a df_base\n",
        "df_base['GrossMargin'] = df_base['Order Quantity'] * (df_base['Unit Price'] * (1 - df_base['Discount Applied']) - df_base['Unit Cost']).round(2)\n",
        "\n",
        "df_base['GrossMargin'].head()"
      ],
      "metadata": {
        "id": "_yKY1aj3yylz"
      },
      "execution_count": null,
      "outputs": []
    },
    {
      "cell_type": "markdown",
      "source": [
        "**7. En esta parte debes aplicar un porcentaje a la columna GrossMargin, pero ese\n",
        "porcentaje dependerá del intervalo en que se encuentre GrossMargin.**"
      ],
      "metadata": {
        "id": "dZdAsXBz06f8"
      }
    },
    {
      "cell_type": "code",
      "source": [
        "# Tabla de comisiones\n",
        "comisiones = {\n",
        "    '0 to 100': 0.05,\n",
        "    '100 to 1000': 0.10,\n",
        "    '1000 to 10000': 0.15,\n",
        "    '10000 to 100000': 0.20\n",
        "}\n",
        "\n",
        "# Aplicando pd.cut para obtener etiquetas numéricas\n",
        "df_base['CommissionsInterval'] = pd.cut(df_base['GrossMargin'], bins=[0, 100, 1000, 10000, 100000], labels=False, right=False)\n",
        "\n",
        "# Mapeando las etiquetas a porcentajes y creando la columna Commissions\n",
        "df_base['Commissions'] = df_base['CommissionsInterval'].map(comisiones) * df_base['GrossMargin']\n",
        "\n",
        "df_base.head()\n"
      ],
      "metadata": {
        "id": "CU-YXw6J1K6G"
      },
      "execution_count": null,
      "outputs": []
    },
    {
      "cell_type": "markdown",
      "source": [
        "**8. Calcula el monto de la comisión, utilizando la Tabla del Anexo.**"
      ],
      "metadata": {
        "id": "SeB2pLI739OI"
      }
    },
    {
      "cell_type": "code",
      "source": [
        "# Calculando columna CommissionsAmount\n",
        "df_base['CommissionsAmount'] = df_base['GrossMargin'] * df_base['Commissions']\n",
        "\n",
        "# Mostrando DataFrame con nueva columna\n",
        "print(df_base[['GrossMargin', 'Commissions', 'CommissionsAmount']].head())"
      ],
      "metadata": {
        "id": "RgMC_RAF38vk"
      },
      "execution_count": null,
      "outputs": []
    },
    {
      "cell_type": "markdown",
      "source": [
        "**9. Calcula la comisión sobre el margen bruto.**"
      ],
      "metadata": {
        "id": "lE33j7fa4MX-"
      }
    },
    {
      "cell_type": "code",
      "source": [
        "# Calculando y creando columna NetMargin\n",
        "df_base['NetMargin'] = df_base['GrossMargin'] - df_base['CommissionsAmount']\n",
        "\n",
        "# Mostrando DataFrame con nueva columna\n",
        "print(df_base[['GrossMargin', 'CommissionsAmount', 'NetMargin']].head())"
      ],
      "metadata": {
        "id": "gQ4j6Gkg4Rjo"
      },
      "execution_count": null,
      "outputs": []
    },
    {
      "cell_type": "markdown",
      "source": [
        "**10. Utilizando una tabla pivote, muestra la suma de los valores GrossMargin, NetMargin y\n",
        "CommissionAmount agrupando por Sales Team en las filas.**"
      ],
      "metadata": {
        "id": "j0X05gxJ4ZQT"
      }
    },
    {
      "cell_type": "code",
      "source": [
        "#Pivot Table 2\n",
        "df_pivot_table = pd.pivot_table(\n",
        "                                   data = df_base # DataFrame.\n",
        "                                 , index = \"Sales Team\" # Columna del DataFrame original que queremos como fila/indice de la tabla resultante.\n",
        "                                 , columns = [\"GrossMargin\",\"NetMargin\",\"CommissionsAmount\"] # Columnas del DataFrame original que queremos como columnas de la tabla resultante.\n",
        "                                 , values = \"OrderNumber\" # valores a lo que le aplicaremos la aggfunc.\n",
        "                                 , aggfunc= \"sum\" # función a aplicar a la columna de valores (suma en este caso).\n",
        "                                 , fill_value = 0 # Valor para llenar los espacios vacíos en la tabla resultante.\n",
        ")\n",
        "\n",
        "#Imprimiendo Pivot Table\n",
        "df_pivot_table.head()"
      ],
      "metadata": {
        "id": "iIaXxvpo4Xmi"
      },
      "execution_count": null,
      "outputs": []
    },
    {
      "cell_type": "markdown",
      "source": [
        "---\n",
        "🚀\n",
        "Nombre: Alejandra Tobar <hr>\n"
      ],
      "metadata": {
        "id": "CGJCvtCxt2ml"
      }
    }
  ],
  "metadata": {
    "colab": {
      "provenance": [],
      "authorship_tag": "ABX9TyOlJohFveyuXfMpDU40MoU/",
      "include_colab_link": true
    },
    "kernelspec": {
      "display_name": "Python 3",
      "name": "python3"
    },
    "language_info": {
      "name": "python"
    }
  },
  "nbformat": 4,
  "nbformat_minor": 0
}
